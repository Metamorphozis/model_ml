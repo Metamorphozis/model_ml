{
  "nbformat": 4,
  "nbformat_minor": 0,
  "metadata": {
    "colab": {
      "provenance": [],
      "authorship_tag": "ABX9TyM1RogXHt+t+kMcS1Ek69NH",
      "include_colab_link": true
    },
    "kernelspec": {
      "name": "python3",
      "display_name": "Python 3"
    },
    "language_info": {
      "name": "python"
    }
  },
  "cells": [
    {
      "cell_type": "markdown",
      "metadata": {
        "id": "view-in-github",
        "colab_type": "text"
      },
      "source": [
        "<a href=\"https://colab.research.google.com/github/Metamorphozis/model_ml/blob/main/Linear_regression.ipynb\" target=\"_parent\"><img src=\"https://colab.research.google.com/assets/colab-badge.svg\" alt=\"Open In Colab\"/></a>"
      ]
    },
    {
      "cell_type": "code",
      "source": [
        "import pandas as pd\n",
        "import numpy as np\n",
        "from sklearn.datasets import make_regression\n",
        "from sklearn.model_selection import train_test_split\n",
        "\n",
        "class MyLineReg:\n",
        "    def __init__(self, n_iter=100, learning_rate=0.1, weights=None):\n",
        "        self.n_iter = n_iter\n",
        "        self.learning_rate = learning_rate\n",
        "        self.weights = weights\n",
        "\n",
        "    def __str__(self):\n",
        "        return f\"MyLineReg class: n_iter={self.n_iter}, learning_rate={self.learning_rate}, weights={self.weights}\"\n",
        "\n",
        "    def fit(self, X, y, verbose=False):\n",
        "        X = X.copy()\n",
        "        X.insert(0, 'intercept', 1)\n",
        "        self.weights = np.ones(X.shape[1])\n",
        "\n",
        "        if verbose:\n",
        "            y_pred = self.weights @ X.T\n",
        "            loss = np.mean((y - y_pred)**2)\n",
        "            print(f\"start | loss: {loss}\")\n",
        "\n",
        "        for i in range(self.n_iter):\n",
        "            y_pred = self.weights @ X.T\n",
        "            loss = np.mean((y - y_pred)**2)\n",
        "            gradient = -2 * np.mean((y - y_pred) * X.T, axis=1)\n",
        "            self.weights = self.weights - self.learning_rate * gradient\n",
        "\n",
        "            if verbose and (i+1) % verbose == 0:\n",
        "                print(f\"{i+1} | loss: {loss}\")\n",
        "\n",
        "    def get_coef(self):\n",
        "        return self.weights[1:]\n",
        "\n",
        "    def predict(self, X):\n",
        "        X = X.copy()\n",
        "        X.insert(0, 'intercept', 1)\n",
        "        y_pred = self.weights @ X.T\n",
        "        return y_pred\n",
        "\n",
        "    def test_predict(self, test_input):\n",
        "        n_samples = test_input[\"n_samples\"]\n",
        "        n_informative = test_input[\"n_informative\"]\n",
        "        noise = test_input[\"noise\"]\n",
        "\n",
        "        X, y = make_regression(n_samples=n_samples, n_features=n_informative, noise=noise, random_state=42)\n",
        "        X = pd.DataFrame(X)\n",
        "        y = pd.Series(y)\n",
        "\n",
        "        # Разделяем данные на обучающую и тестовую выборки\n",
        "        X_train, X_test, y_train, y_test = train_test_split(X, y, test_size=0.2, random_state=42)\n",
        "\n",
        "        # Обучаем модель на обучающей выборке\n",
        "        self.fit(X_train, y_train)\n",
        "\n",
        "        # Делаем предсказания для тестовой выборки\n",
        "        y_pred = self.predict(X_test)\n",
        "\n",
        "        return np.sum(y_pred)\n",
        "\n",
        "# Тестовые данные\n",
        "test_input = {\"n_samples\": 400, \"n_informative\": 5, \"noise\": 5}\n",
        "model = MyLineReg()\n",
        "result = model.test_predict(test_input)\n",
        "print(result)"
      ],
      "metadata": {
        "id": "lh6IPjaW2Ubv",
        "outputId": "5f097a4e-91c2-4b6d-d5c6-716f28904104",
        "colab": {
          "base_uri": "https://localhost:8080/"
        }
      },
      "execution_count": null,
      "outputs": [
        {
          "output_type": "stream",
          "name": "stdout",
          "text": [
            "1374.950558110215\n"
          ]
        }
      ]
    }
  ]
}