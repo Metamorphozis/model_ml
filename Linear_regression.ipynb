{
  "nbformat": 4,
  "nbformat_minor": 0,
  "metadata": {
    "colab": {
      "provenance": [],
      "authorship_tag": "ABX9TyPDXinzjILz6DW6HFiPuVrp",
      "include_colab_link": true
    },
    "kernelspec": {
      "name": "python3",
      "display_name": "Python 3"
    },
    "language_info": {
      "name": "python"
    }
  },
  "cells": [
    {
      "cell_type": "markdown",
      "metadata": {
        "id": "view-in-github",
        "colab_type": "text"
      },
      "source": [
        "<a href=\"https://colab.research.google.com/github/Metamorphozis/model_ml/blob/main/Linear_regression.ipynb\" target=\"_parent\"><img src=\"https://colab.research.google.com/assets/colab-badge.svg\" alt=\"Open In Colab\"/></a>"
      ]
    },
    {
      "cell_type": "code",
      "source": [
        "import pandas as pd\n",
        "import numpy as np\n",
        "import random\n",
        "\n",
        "class MyLineReg:\n",
        "    def __init__(self, n_iter=100, learning_rate=0.1, metric=None, reg=None, l1_coef=0, l2_coef=0, sgd_sample=None, random_state=42):\n",
        "        self.n_iter = n_iter\n",
        "        self.learning_rate = learning_rate\n",
        "        self.weights = None\n",
        "        self.metric = metric\n",
        "        self.best_score = None\n",
        "        self.last_metric = 'mae'\n",
        "        self.reg = reg\n",
        "        self.l1_coef = l1_coef\n",
        "        self.l2_coef = l2_coef\n",
        "        self.sgd_sample = sgd_sample\n",
        "        self.random_state = random_state\n",
        "\n",
        "    def fit(self, X, y, verbose=False):\n",
        "        # Фиксируем сид для воспроизводимости\n",
        "        random.seed(self.random_state)\n",
        "\n",
        "        # Используем np.c_ для добавления единичного столбца в X\n",
        "        X = np.c_[np.ones(X.shape[0]), X]\n",
        "        self.weights = np.zeros(X.shape[1])\n",
        "\n",
        "        for i in range(1, self.n_iter + 1):\n",
        "            if self.sgd_sample is not None:\n",
        "                # Выборка мини-пакета\n",
        "                sample_size = round(self.sgd_sample * X.shape[0]) if isinstance(self.sgd_sample, float) else self.sgd_sample\n",
        "                sample_rows_idx = random.sample(range(X.shape[0]), sample_size)\n",
        "                X_sample = X[sample_rows_idx]\n",
        "                y_sample = np.take(y, sample_rows_idx)\n",
        "            else:\n",
        "                X_sample = X\n",
        "                y_sample = y\n",
        "\n",
        "            # Расчет градиента на основе мини-пакета\n",
        "            y_pred = np.dot(X_sample, self.weights)\n",
        "            gradient = 2 * np.dot(X_sample.T, (y_pred - y_sample)) / X_sample.shape[0]\n",
        "\n",
        "            # Регуляризация градиента\n",
        "            if self.reg == \"l1\":\n",
        "                gradient += self.l1_coef * np.sign(self.weights)\n",
        "            elif self.reg == \"l2\":\n",
        "                gradient += 2 * self.l2_coef * self.weights\n",
        "            elif self.reg == \"elasticnet\":\n",
        "                gradient += self.l1_coef * np.sign(self.weights) + 2 * self.l2_coef * self.weights\n",
        "\n",
        "            # Вычисляем learning_rate\n",
        "            current_learning_rate = self.learning_rate(i) if callable(self.learning_rate) else self.learning_rate\n",
        "\n",
        "            self.weights -= current_learning_rate * gradient\n",
        "\n",
        "            # Расчет ошибки и метрики на всем датасете\n",
        "            y_pred_all = np.dot(X, self.weights)\n",
        "            loss = ((y - y_pred_all)**2).mean()\n",
        "\n",
        "            score = self._calculate_metric(y, y_pred_all)\n",
        "\n",
        "            if verbose or i == self.n_iter:\n",
        "                print(f\"Iteration {i} | Loss: {loss:.2f} | Learning Rate: {current_learning_rate:.2f} | {self.metric}: {score:.2f}\")\n",
        "\n",
        "            if i == self.n_iter:\n",
        "                self.best_score = score\n",
        "                self.last_metric = self.metric\n",
        "\n",
        "    def get_coef(self):\n",
        "        return self.weights[1:]\n",
        "\n",
        "    def predict(self, X):\n",
        "        # Используем np.c_ для добавления единичного столбца в X\n",
        "        X = np.c_[np.ones(X.shape[0]), X]\n",
        "        predictions = np.dot(X, self.weights)\n",
        "        return predictions\n",
        "\n",
        "    def get_best_score(self):\n",
        "        if self.best_score is None:\n",
        "            return \"No score available\"\n",
        "        else:\n",
        "            return round(self.best_score, 10)\n",
        "\n",
        "    def _calculate_metric(self, y_true, y_pred):\n",
        "        if self.metric is None:\n",
        "            self.metric = self.last_metric\n",
        "\n",
        "        if self.metric == 'mae':\n",
        "            score = np.abs(y_true - y_pred).mean()\n",
        "        elif self.metric == 'mse':\n",
        "            score = ((y_true - y_pred)**2).mean()\n",
        "        elif self.metric == 'rmse':\n",
        "            score = np.sqrt(((y_true - y_pred)**2).mean())\n",
        "        elif self.metric == 'mape':\n",
        "            score = np.abs((y_true - y_pred) / y_true).mean() * 100\n",
        "        elif self.metric == 'r2':\n",
        "            ss_res = np.sum((y_true - y_pred)**2)\n",
        "            ss_tot = np.sum((y_true - np.mean(y_true))**2)\n",
        "            score = 1 - (ss_res / ss_tot)\n",
        "        else:\n",
        "            raise ValueError(\"Unsupported metric\")\n",
        "\n",
        "        return score\n",
        "\n",
        "# Тестовые данные\n",
        "from sklearn.datasets import make_regression\n",
        "X, y = make_regression(n_samples=1000, n_features=10, random_state=42)\n",
        "line = MyLineReg(n_iter=100, learning_rate=0.1, metric='mae', sgd_sample=0.1)\n",
        "line.fit(X, y, verbose=False)\n",
        "print(sum(line.get_coef()))"
      ],
      "metadata": {
        "id": "lh6IPjaW2Ubv",
        "outputId": "45e31dae-57d3-4c06-917f-a14847c85028",
        "colab": {
          "base_uri": "https://localhost:8080/"
        }
      },
      "execution_count": 24,
      "outputs": [
        {
          "output_type": "stream",
          "name": "stdout",
          "text": [
            "Iteration 100 | Loss: 0.00 | Learning Rate: 0.10 | mae: 0.00\n",
            "337.2672238357428\n"
          ]
        }
      ]
    }
  ]
}