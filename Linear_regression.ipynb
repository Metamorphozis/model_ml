{
  "nbformat": 4,
  "nbformat_minor": 0,
  "metadata": {
    "colab": {
      "provenance": [],
      "authorship_tag": "ABX9TyNBOCrDPEDE91wFX56/6UwA",
      "include_colab_link": true
    },
    "kernelspec": {
      "name": "python3",
      "display_name": "Python 3"
    },
    "language_info": {
      "name": "python"
    }
  },
  "cells": [
    {
      "cell_type": "markdown",
      "metadata": {
        "id": "view-in-github",
        "colab_type": "text"
      },
      "source": [
        "<a href=\"https://colab.research.google.com/github/Metamorphozis/model_ml/blob/main/Linear_regression.ipynb\" target=\"_parent\"><img src=\"https://colab.research.google.com/assets/colab-badge.svg\" alt=\"Open In Colab\"/></a>"
      ]
    },
    {
      "cell_type": "markdown",
      "source": [
        "1. Импорт библиотек:\n",
        "\n",
        "Импортируем pandas для работы с DataFrame и numpy для математических операций."
      ],
      "metadata": {
        "id": "l47dMsUKfl1x"
      }
    },
    {
      "cell_type": "code",
      "source": [
        "import pandas as pd\n",
        "import numpy as np"
      ],
      "metadata": {
        "id": "GoHibJ67fsQT"
      },
      "execution_count": 1,
      "outputs": []
    },
    {
      "cell_type": "markdown",
      "source": [
        "2. Определение класса MyLineReg:\n",
        "\n",
        "__init__: Конструктор класса, инициализирует атрибуты класса (параметры модели)."
      ],
      "metadata": {
        "id": "t3QZ_Ry8fz2Q"
      }
    },
    {
      "cell_type": "code",
      "source": [
        "class MyLineReg:\n",
        "    def __init__(self, n_iter=100, learning_rate=0.1, metric=None):\n",
        "        self.n_iter = n_iter  # Количество итераций обучения\n",
        "        self.learning_rate = learning_rate  # Скорость обучения\n",
        "        self.weights = None  # Массив весов модели (инициализируется в `fit`)\n",
        "        self.metric = metric  # Метрика для оценки модели (MAE, MSE, RMSE, MAPE, R2)\n",
        "        self.best_score = None  # Лучшее значение метрики, которое мы найдем в процессе обучения"
      ],
      "metadata": {
        "id": "bk_nUE33f21P"
      },
      "execution_count": 2,
      "outputs": []
    },
    {
      "cell_type": "markdown",
      "source": [
        "3. Метод fit:"
      ],
      "metadata": {
        "id": "7gpg3vSjgDxc"
      }
    },
    {
      "cell_type": "markdown",
      "source": [
        "fit: Метод обучения модели. Он принимает на вход матрицу признаков X и вектор целевых значений y."
      ],
      "metadata": {
        "id": "g_e-KKfZgM6N"
      }
    },
    {
      "cell_type": "code",
      "source": [
        "def fit(self, X, y, verbose=False):\n",
        "        # Добавляем единичный столбец к X для смещения\n",
        "       X = pd.concat([pd.Series(np.ones(X.shape[0])), X], axis=1)\n",
        "\n",
        "       self.weights = np.zeros(X.shape[1])  # Инициализируем веса нулями\n",
        "\n",
        "       start_loss = float('inf')  # Инициализируем start_loss бесконечностью\n",
        "       score = None  # Инициализируем score как None\n",
        "\n",
        "       for i in range(self.n_iter):\n",
        "           y_pred = np.dot(X, self.weights)  # Делаем предсказание\n",
        "\n",
        "           loss = ((y - y_pred)**2).mean()  # Считаем среднеквадратичную ошибку\n",
        "\n",
        "            # Обновляем веса\n",
        "           gradient = 2 * np.dot(X.T, (y_pred - y)) / X.shape[0]  # Вычисляем градиент\n",
        "           self.weights -= self.learning_rate * gradient  # Обновляем веса с помощью градиентного спуска\n",
        "\n",
        "            # Рассчитываем метрику на последней итерации или если verbose=True\n",
        "           if verbose or i == self.n_iter - 1:\n",
        "               score = self._calculate_metric(y, y_pred)  # Вычисляем метрику\n",
        "               if verbose:\n",
        "                   print(f\"{i+1} | loss: {loss:.2f} | {self.metric}: {score:.2f}\")\n",
        "\n",
        "           if loss < start_loss:\n",
        "              start_loss = loss # Добавили эту строку\n",
        "              self.best_score = score\n",
        "           else:\n",
        "                break # Прерываем цикл, если loss не уменьшается"
      ],
      "metadata": {
        "id": "G4GneQ0Yf81M"
      },
      "execution_count": 3,
      "outputs": []
    },
    {
      "cell_type": "markdown",
      "source": [
        "4. Метод get_coef:\n",
        "\n",
        "get_coef: Возвращает веса модели (без смещения)."
      ],
      "metadata": {
        "id": "oYwNKjSbgYDo"
      }
    },
    {
      "cell_type": "code",
      "source": [
        "def get_coef(self):\n",
        "      return self.weights[1:]  # Возвращает веса без смещения"
      ],
      "metadata": {
        "id": "HTrP4DcKgcvo"
      },
      "execution_count": 4,
      "outputs": []
    },
    {
      "cell_type": "markdown",
      "source": [
        "5. Метод predict:\n",
        "\n",
        "predict: Делает предсказания для новой матрицы признаков X."
      ],
      "metadata": {
        "id": "voC2Of78gpgy"
      }
    },
    {
      "cell_type": "code",
      "source": [
        "def predict(self, X):\n",
        "        X = pd.concat([pd.Series(np.ones(X.shape[0])), X], axis=1)  # Добавляем единичный столбец\n",
        "        predictions = np.dot(X, self.weights)  # Делаем предсказание\n",
        "        return predictions  # Возвращаем вектор предсказаний"
      ],
      "metadata": {
        "id": "D3dupoeggo_k"
      },
      "execution_count": 5,
      "outputs": []
    },
    {
      "cell_type": "markdown",
      "source": [
        "6. Метод get_best_score:\n",
        "\n",
        "get_best_score: Возвращает лучшее значение метрики, которое было достигнуто в процессе обучения."
      ],
      "metadata": {
        "id": "4Dbvatw8gyan"
      }
    },
    {
      "cell_type": "code",
      "source": [
        "def get_best_score(self):\n",
        "        if self.best_score is None:\n",
        "            return \"No score available\"  # Возвращаем строку, если best_score не доступен\n",
        "        else:\n",
        "            return round(self.best_score, 10)  # Возвращаем округленное значение best_score"
      ],
      "metadata": {
        "id": "KdNMtVwvg1Wk"
      },
      "execution_count": 6,
      "outputs": []
    },
    {
      "cell_type": "markdown",
      "source": [
        "7. Метод _calculate_metric:\n",
        "\n",
        "_calculate_metric: Вычисляет значение метрики в зависимости от параметра self.metric."
      ],
      "metadata": {
        "id": "54Dmi2Nag6t0"
      }
    },
    {
      "cell_type": "code",
      "source": [
        "def _calculate_metric(self, y_true, y_pred):\n",
        "    if self.metric == 'mae':\n",
        "        score = np.abs(y_true - y_pred).mean()\n",
        "    elif self.metric == 'mse':\n",
        "         score = ((y_true - y_pred)**2).mean()\n",
        "    elif self.metric == 'rmse':\n",
        "         score = np.sqrt(((y_true - y_pred)**2).mean())\n",
        "    elif self.metric == 'mape':\n",
        "         score = np.abs((y_true - y_pred) / y_true).mean() * 100\n",
        "    elif self.metric == 'r2':\n",
        "        ss_res = np.sum((y_true - y_pred)**2)\n",
        "        ss_tot = np.sum((y_true - np.mean(y_true))**2)\n",
        "        score = 1 - (ss_res / ss_tot)\n",
        "    else:\n",
        "         raise ValueError(\"Unsupported metric\")\n",
        "\n",
        "    return score"
      ],
      "metadata": {
        "id": "yl8sJaiag_Ht"
      },
      "execution_count": 7,
      "outputs": []
    },
    {
      "cell_type": "markdown",
      "source": [
        "Пример использования:"
      ],
      "metadata": {
        "id": "U0Hah_szhLwT"
      }
    },
    {
      "cell_type": "code",
      "source": [
        "# Загрузка данных (пример)\n",
        "X = pd.DataFrame([[1, 2], [3, 4], [5, 6]])\n",
        "y = pd.Series([7, 8, 9])\n",
        "\n",
        "# Создание объекта модели\n",
        "model = MyLineReg(n_iter=1000, learning_rate=0.01, metric='mae')\n",
        "\n",
        "# Обучение модели\n",
        "model.fit(X, y, verbose=True)\n",
        "\n",
        "# Получение весов\n",
        "print(model.get_coef())\n",
        "\n",
        "# Получение лучшего значения метрики\n",
        "print(model.get_best_score())\n",
        "\n",
        "# Делаем предсказания для новых данных\n",
        "new_X = pd.DataFrame([[10, 11]])\n",
        "predictions = model.predict(new_X)\n",
        "print(predictions)"
      ],
      "metadata": {
        "id": "eD4hdFNthMkT",
        "outputId": "401447e4-ac9d-42d3-ffff-74170d7e2392",
        "colab": {
          "base_uri": "https://localhost:8080/",
          "height": 222
        }
      },
      "execution_count": 8,
      "outputs": [
        {
          "output_type": "error",
          "ename": "AttributeError",
          "evalue": "'MyLineReg' object has no attribute 'fit'",
          "traceback": [
            "\u001b[0;31m---------------------------------------------------------------------------\u001b[0m",
            "\u001b[0;31mAttributeError\u001b[0m                            Traceback (most recent call last)",
            "\u001b[0;32m<ipython-input-8-3184cb346846>\u001b[0m in \u001b[0;36m<cell line: 9>\u001b[0;34m()\u001b[0m\n\u001b[1;32m      7\u001b[0m \u001b[0;34m\u001b[0m\u001b[0m\n\u001b[1;32m      8\u001b[0m \u001b[0;31m# Обучение модели\u001b[0m\u001b[0;34m\u001b[0m\u001b[0;34m\u001b[0m\u001b[0m\n\u001b[0;32m----> 9\u001b[0;31m \u001b[0mmodel\u001b[0m\u001b[0;34m.\u001b[0m\u001b[0mfit\u001b[0m\u001b[0;34m(\u001b[0m\u001b[0mX\u001b[0m\u001b[0;34m,\u001b[0m \u001b[0my\u001b[0m\u001b[0;34m,\u001b[0m \u001b[0mverbose\u001b[0m\u001b[0;34m=\u001b[0m\u001b[0;32mTrue\u001b[0m\u001b[0;34m)\u001b[0m\u001b[0;34m\u001b[0m\u001b[0;34m\u001b[0m\u001b[0m\n\u001b[0m\u001b[1;32m     10\u001b[0m \u001b[0;34m\u001b[0m\u001b[0m\n\u001b[1;32m     11\u001b[0m \u001b[0;31m# Получение весов\u001b[0m\u001b[0;34m\u001b[0m\u001b[0;34m\u001b[0m\u001b[0m\n",
            "\u001b[0;31mAttributeError\u001b[0m: 'MyLineReg' object has no attribute 'fit'"
          ]
        }
      ]
    },
    {
      "cell_type": "code",
      "source": [
        "import pandas as pd\n",
        "import numpy as np\n",
        "\n",
        "class MyLineReg:\n",
        "    def __init__(self, n_iter=100, learning_rate=0.1, metric=None):\n",
        "        self.n_iter = n_iter\n",
        "        self.learning_rate = learning_rate\n",
        "        self.weights = None\n",
        "        self.metric = metric\n",
        "        self.best_score = None\n",
        "\n",
        "    def fit(self, X, y, verbose=False):\n",
        "        # Добавляем единичный столбец к X для смещения\n",
        "        X = pd.concat([pd.Series(np.ones(X.shape[0])), X], axis=1)\n",
        "\n",
        "        self.weights = np.zeros(X.shape[1])\n",
        "\n",
        "        start_loss = float('inf')\n",
        "        score = None\n",
        "\n",
        "        for i in range(self.n_iter):\n",
        "            y_pred = np.dot(X, self.weights)\n",
        "\n",
        "            loss = ((y - y_pred)**2).mean()\n",
        "\n",
        "            # Обновляем веса\n",
        "            gradient = 2 * np.dot(X.T, (y_pred - y)) / X.shape[0]\n",
        "            self.weights -= self.learning_rate * gradient\n",
        "\n",
        "            # Рассчитываем метрику на последней итерации или если verbose=True\n",
        "            if verbose or i == self.n_iter - 1:\n",
        "                score = self._calculate_metric(y, y_pred)\n",
        "                if verbose:\n",
        "                    print(f\"{i+1} | loss: {loss:.2f} | {self.metric}: {score:.2f}\")\n",
        "\n",
        "            if loss < start_loss:\n",
        "                start_loss = loss # Добавили эту строку\n",
        "                self.best_score = score\n",
        "            else:\n",
        "                break\n",
        "\n",
        "    def get_coef(self):\n",
        "        return self.weights[1:]\n",
        "\n",
        "    def predict(self, X):\n",
        "        X = pd.concat([pd.Series(np.ones(X.shape[0])), X], axis=1)\n",
        "        predictions = np.dot(X, self.weights)\n",
        "        return predictions\n",
        "\n",
        "    def get_best_score(self):\n",
        "        if self.best_score is None:\n",
        "            return \"No score available\"  # Возвращаем строку вместо None\n",
        "        else:\n",
        "            return round(self.best_score, 10)  # Округляем значение метрики сразу здесь\n",
        "\n",
        "    def _calculate_metric(self, y_true, y_pred):\n",
        "        if self.metric == 'mae':\n",
        "            score = np.abs(y_true - y_pred).mean()\n",
        "        elif self.metric == 'mse':\n",
        "            score = ((y_true - y_pred)**2).mean()\n",
        "        elif self.metric == 'rmse':\n",
        "            score = np.sqrt(((y_true - y_pred)**2).mean())\n",
        "        elif self.metric == 'mape':\n",
        "            score = np.abs((y_true - y_pred) / y_true).mean() * 100\n",
        "        elif self.metric == 'r2':\n",
        "            ss_res = np.sum((y_true - y_pred)**2)\n",
        "            ss_tot = np.sum((y_true - np.mean(y_true))**2)\n",
        "            score = 1 - (ss_res / ss_tot)\n",
        "        else:\n",
        "            raise ValueError(\"Unsupported metric\")\n",
        "\n",
        "        return score"
      ],
      "metadata": {
        "id": "4HevgyyBOcwF"
      },
      "execution_count": null,
      "outputs": []
    },
    {
      "cell_type": "code",
      "source": [
        "# Загрузка данных (пример)\n",
        "X = pd.DataFrame([[1, 2], [3, 4], [5, 6]])\n",
        "y = pd.Series([7, 8, 9])\n",
        "\n",
        "# Обучение с MSE (без явного указания metric)\n",
        "model_mse = MyLineReg(n_iter=1000, learning_rate=0.01)  # metric=None по умолчанию\n",
        "model_mse.fit(X, y)\n",
        "print(f\"MSE: {model_mse.get_best_score()}\")"
      ],
      "metadata": {
        "id": "7QzysNZ8eKq_"
      },
      "execution_count": null,
      "outputs": []
    }
  ]
}